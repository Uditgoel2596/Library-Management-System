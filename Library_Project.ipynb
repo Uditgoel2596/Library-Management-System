{
 "cells": [
  {
   "cell_type": "code",
   "execution_count": 1,
   "id": "21b06ecc-197b-49f7-8e47-dba5d54b67b0",
   "metadata": {},
   "outputs": [],
   "source": [
    "## Library Management System  ##"
   ]
  },
  {
   "cell_type": "code",
   "execution_count": 70,
   "id": "e3d884ef-bb51-4097-b513-ede076cd2b6a",
   "metadata": {},
   "outputs": [
    {
     "name": "stdout",
     "output_type": "stream",
     "text": [
      "***********Welcome to Library***************\n",
      "\n"
     ]
    },
    {
     "name": "stdin",
     "output_type": "stream",
     "text": [
      "Please Enter your User Name: udit\n"
     ]
    },
    {
     "name": "stdout",
     "output_type": "stream",
     "text": [
      "\n",
      "Sorry! Incorrect Username... Try again!\n",
      "\n"
     ]
    },
    {
     "name": "stdin",
     "output_type": "stream",
     "text": [
      "Please Enter your User Name: uditgoel\n",
      "Please Enter your Password: 12345\n"
     ]
    },
    {
     "name": "stdout",
     "output_type": "stream",
     "text": [
      "\n",
      "Sorry! Incorrect Password... Try again!\n",
      "\n"
     ]
    },
    {
     "name": "stdin",
     "output_type": "stream",
     "text": [
      "Please Enter your User Name: uditgoel\n",
      "Please Enter your Password: 1234\n"
     ]
    },
    {
     "name": "stdout",
     "output_type": "stream",
     "text": [
      "\n",
      "Udit, You have Successfully Logged In!\n",
      "\n"
     ]
    },
    {
     "name": "stdin",
     "output_type": "stream",
     "text": [
      "Press 1 to Issue a book\n",
      "Press 2 to Return a book\n",
      "Press 3 for Available books\n",
      "Press 4 for the Borrower list\n",
      "Press 5 for Exit\n",
      "Your Choice:  1\n"
     ]
    },
    {
     "name": "stdout",
     "output_type": "stream",
     "text": [
      "\n"
     ]
    },
    {
     "name": "stdin",
     "output_type": "stream",
     "text": [
      "Please Enter the name of Issuer: Udit\n",
      "Please Enter 10 digit Mobile No: 3456789045\n",
      "Please Enter the Book to be Issued (Maths, English,Hindi): maths\n"
     ]
    },
    {
     "name": "stdout",
     "output_type": "stream",
     "text": [
      "\n",
      "---Maths Book is Successfully Issued to Udit---\n",
      "\n"
     ]
    },
    {
     "name": "stdin",
     "output_type": "stream",
     "text": [
      "Press 1 to Issue a book\n",
      "Press 2 to Return a book\n",
      "Press 3 for Available books\n",
      "Press 4 for the Borrower list\n",
      "Press 5 for Exit\n",
      "Your Choice:  1\n"
     ]
    },
    {
     "name": "stdout",
     "output_type": "stream",
     "text": [
      "\n"
     ]
    },
    {
     "name": "stdin",
     "output_type": "stream",
     "text": [
      "Please Enter the name of Issuer: gourav\n",
      "Please Enter 10 digit Mobile No: 9567834568\n",
      "Please Enter the Book to be Issued (Maths, English,Hindi): english\n"
     ]
    },
    {
     "name": "stdout",
     "output_type": "stream",
     "text": [
      "\n",
      "---English Book is Successfully Issued to Gourav---\n",
      "\n"
     ]
    },
    {
     "name": "stdin",
     "output_type": "stream",
     "text": [
      "Press 1 to Issue a book\n",
      "Press 2 to Return a book\n",
      "Press 3 for Available books\n",
      "Press 4 for the Borrower list\n",
      "Press 5 for Exit\n",
      "Your Choice:  1\n"
     ]
    },
    {
     "name": "stdout",
     "output_type": "stream",
     "text": [
      "\n"
     ]
    },
    {
     "name": "stdin",
     "output_type": "stream",
     "text": [
      "Please Enter the name of Issuer: shivam\n",
      "Please Enter 10 digit Mobile No: 9347284593\n",
      "Please Enter the Book to be Issued (Maths, English,Hindi): Hindi\n"
     ]
    },
    {
     "name": "stdout",
     "output_type": "stream",
     "text": [
      "\n",
      "Sorry! Hindi  Book is out of Stock.\n",
      "Available Books: {'Maths': 2, 'English': 1, 'Hindi': 0}\n",
      "\n"
     ]
    },
    {
     "name": "stdin",
     "output_type": "stream",
     "text": [
      "Press 1 to Issue a book\n",
      "Press 2 to Return a book\n",
      "Press 3 for Available books\n",
      "Press 4 for the Borrower list\n",
      "Press 5 for Exit\n",
      "Your Choice:  3\n"
     ]
    },
    {
     "name": "stdout",
     "output_type": "stream",
     "text": [
      "\n",
      "Available Books are: {'Maths': 2, 'English': 1, 'Hindi': 0}\n",
      "\n"
     ]
    },
    {
     "name": "stdin",
     "output_type": "stream",
     "text": [
      "Press 1 to Issue a book\n",
      "Press 2 to Return a book\n",
      "Press 3 for Available books\n",
      "Press 4 for the Borrower list\n",
      "Press 5 for Exit\n",
      "Your Choice:  4\n"
     ]
    },
    {
     "name": "stdout",
     "output_type": "stream",
     "text": [
      "\n",
      "Borrower's List: {'Udit': {'Contact No': 3456789045, 'Book Issued': 'Maths'}, 'Gourav': {'Contact No': 9567834568, 'Book Issued': 'English'}}\n",
      "\n"
     ]
    },
    {
     "name": "stdin",
     "output_type": "stream",
     "text": [
      "Press 1 to Issue a book\n",
      "Press 2 to Return a book\n",
      "Press 3 for Available books\n",
      "Press 4 for the Borrower list\n",
      "Press 5 for Exit\n",
      "Your Choice:  2\n"
     ]
    },
    {
     "name": "stdout",
     "output_type": "stream",
     "text": [
      "\n"
     ]
    },
    {
     "name": "stdin",
     "output_type": "stream",
     "text": [
      "Please Enter the Book to be returned: maths\n",
      "Please Enter the Borrower's Name: udit\n"
     ]
    },
    {
     "name": "stdout",
     "output_type": "stream",
     "text": [
      "\n",
      "---- Maths  Book is Successfully returned by Udit ----\n",
      "\n"
     ]
    },
    {
     "name": "stdin",
     "output_type": "stream",
     "text": [
      "Press 1 to Issue a book\n",
      "Press 2 to Return a book\n",
      "Press 3 for Available books\n",
      "Press 4 for the Borrower list\n",
      "Press 5 for Exit\n",
      "Your Choice:  3\n"
     ]
    },
    {
     "name": "stdout",
     "output_type": "stream",
     "text": [
      "\n",
      "Available Books are: {'Maths': 3, 'English': 1, 'Hindi': 0}\n",
      "\n"
     ]
    },
    {
     "name": "stdin",
     "output_type": "stream",
     "text": [
      "Press 1 to Issue a book\n",
      "Press 2 to Return a book\n",
      "Press 3 for Available books\n",
      "Press 4 for the Borrower list\n",
      "Press 5 for Exit\n",
      "Your Choice:  4\n"
     ]
    },
    {
     "name": "stdout",
     "output_type": "stream",
     "text": [
      "\n",
      "Borrower's List: {'Gourav': {'Contact No': 9567834568, 'Book Issued': 'English'}}\n",
      "\n"
     ]
    },
    {
     "name": "stdin",
     "output_type": "stream",
     "text": [
      "Press 1 to Issue a book\n",
      "Press 2 to Return a book\n",
      "Press 3 for Available books\n",
      "Press 4 for the Borrower list\n",
      "Press 5 for Exit\n",
      "Your Choice:  5\n"
     ]
    },
    {
     "name": "stdout",
     "output_type": "stream",
     "text": [
      "\n",
      "Have a Great Day!\n"
     ]
    }
   ],
   "source": [
    "print(\"***********Welcome to Library***************\")\n",
    "while True:\n",
    "    print()\n",
    "    username = str(input(\"Please Enter your User Name:\").capitalize())\n",
    "    if username == \"Uditgoel\":\n",
    "        password = str(input(\"Please Enter your Password:\"))\n",
    "        if password == \"1234\":\n",
    "            print()\n",
    "            print(\"Udit, You have Successfully Logged In!\")\n",
    "            books = {\"Maths\":3,\"English\":2,\"Hindi\":0}\n",
    "            borrower={}\n",
    "            while True:\n",
    "                print()\n",
    "                user_choice = int(input(\"\"\"Press 1 to Issue a book\n",
    "Press 2 to Return a book\n",
    "Press 3 for Available books\n",
    "Press 4 for the Borrower list\n",
    "Press 5 for Exit\n",
    "Your Choice: \"\"\"))\n",
    "                if user_choice == 1:\n",
    "                    print()\n",
    "                    issuer_name = str(input(\"Please Enter the name of Issuer:\").capitalize())\n",
    "                    contact_no = int(input(\"Please Enter 10 digit Mobile No:\"))\n",
    "                    book_issued = str(input(\"Please Enter the Book to be Issued (Maths, English,Hindi):\").capitalize())\n",
    "                    if book_issued in books:\n",
    "                        if books[book_issued]>=1:\n",
    "                            print()\n",
    "                            print(\"---{} Book is Successfully Issued to {}---\".format(book_issued,issuer_name))\n",
    "                            books[book_issued]-=1\n",
    "                            borrower[issuer_name] = {\"Contact No\": contact_no, \"Book Issued\": book_issued}\n",
    "                        else:\n",
    "                            print()\n",
    "                            print(\"Sorry!\",book_issued,\" Book is out of Stock.\")\n",
    "                            print(\"Available Books:\",books)\n",
    "                    else:\n",
    "                        print()\n",
    "                        print(\"Sorry!\",issued_book,\"is not available.\")\n",
    "            \n",
    "                if user_choice == 2:\n",
    "                    print()\n",
    "                    return_book = str(input(\"Please Enter the Book to be returned:\").capitalize())\n",
    "                    borrower_name = str(input(\"Please Enter the Borrower's Name:\").capitalize())\n",
    "                    if borrower_name in borrower:\n",
    "                        borrower_info = borrower[borrower_name]\n",
    "                        if borrower_info[\"Book Issued\"] == return_book:\n",
    "                            print()\n",
    "                            print(\"----\",return_book,\" Book is Successfully returned by\",borrower_name,\"----\")\n",
    "                            books[return_book]+=1\n",
    "                            del borrower[borrower_name]\n",
    "                        else:\n",
    "                            print(borrower_name,\"did not borrow\",return_book,\"book.\")\n",
    "                    else:\n",
    "                        print(\"Sorry! No Record found for\",borrower_name)\n",
    "                            \n",
    "                if user_choice == 3:\n",
    "                    print()\n",
    "                    print(\"Available Books are:\",books)\n",
    "            \n",
    "                if user_choice == 4:\n",
    "                    print()\n",
    "                    print(\"Borrower's List:\",borrower)\n",
    "                \n",
    "                if user_choice ==5:\n",
    "                    print()\n",
    "                    print(\"Have a Great Day!\")\n",
    "                    break\n",
    "            break\n",
    "        else:\n",
    "            print()\n",
    "            print(\"Sorry! Incorrect Password... Try again!\")\n",
    "    else:\n",
    "        print()\n",
    "        print(\"Sorry! Incorrect Username... Try again!\")"
   ]
  },
  {
   "cell_type": "code",
   "execution_count": null,
   "id": "b120b895-8e9e-4f5e-926b-b0ef7c2b714b",
   "metadata": {},
   "outputs": [],
   "source": []
  },
  {
   "cell_type": "code",
   "execution_count": null,
   "id": "ff1b8cc2-846b-4b63-a06c-5a2c430a0b45",
   "metadata": {},
   "outputs": [],
   "source": []
  },
  {
   "cell_type": "code",
   "execution_count": null,
   "id": "f34f0d94-eae6-4da1-8e94-532d3a6a12b2",
   "metadata": {},
   "outputs": [],
   "source": []
  },
  {
   "cell_type": "code",
   "execution_count": null,
   "id": "f600f14e-7b80-445d-9ceb-556c9e864970",
   "metadata": {},
   "outputs": [],
   "source": []
  },
  {
   "cell_type": "code",
   "execution_count": null,
   "id": "cb9e6100-93dd-45e1-a77b-81be83dd8bcc",
   "metadata": {},
   "outputs": [],
   "source": []
  },
  {
   "cell_type": "code",
   "execution_count": null,
   "id": "d07322af-f39e-4927-9925-935045963a4b",
   "metadata": {},
   "outputs": [],
   "source": []
  },
  {
   "cell_type": "code",
   "execution_count": null,
   "id": "614b7942-4558-4211-bc2f-1120194015a6",
   "metadata": {},
   "outputs": [],
   "source": []
  },
  {
   "cell_type": "code",
   "execution_count": null,
   "id": "da852ffb-8e06-4427-9413-481809b31552",
   "metadata": {},
   "outputs": [],
   "source": []
  },
  {
   "cell_type": "code",
   "execution_count": null,
   "id": "4c7cd89a-326f-4045-8c73-af2768f72e52",
   "metadata": {},
   "outputs": [],
   "source": []
  },
  {
   "cell_type": "code",
   "execution_count": null,
   "id": "4b806568-6e42-42ff-a1f1-b8c14b733150",
   "metadata": {},
   "outputs": [],
   "source": []
  },
  {
   "cell_type": "code",
   "execution_count": null,
   "id": "518ecb37-e339-4285-83c3-ea23b0a0ef2d",
   "metadata": {},
   "outputs": [],
   "source": []
  },
  {
   "cell_type": "code",
   "execution_count": null,
   "id": "4aa2cba3-81a5-4b79-8078-d36ea185bbc6",
   "metadata": {},
   "outputs": [],
   "source": []
  },
  {
   "cell_type": "code",
   "execution_count": null,
   "id": "206583ed-aea0-4a77-99b8-18f02cfa164c",
   "metadata": {},
   "outputs": [],
   "source": []
  },
  {
   "cell_type": "code",
   "execution_count": null,
   "id": "9f26d823-b78c-4738-a6e6-56e29d9c6a88",
   "metadata": {},
   "outputs": [],
   "source": []
  },
  {
   "cell_type": "code",
   "execution_count": null,
   "id": "cef6ae67-a4de-4566-b66e-9866408ce913",
   "metadata": {},
   "outputs": [],
   "source": []
  },
  {
   "cell_type": "code",
   "execution_count": null,
   "id": "51f3c7c1-6e4d-457f-93ea-a7f2a823ee0b",
   "metadata": {},
   "outputs": [],
   "source": []
  },
  {
   "cell_type": "code",
   "execution_count": null,
   "id": "712362ee-4ae6-4ad9-9c8a-d996b061c6a1",
   "metadata": {},
   "outputs": [],
   "source": []
  },
  {
   "cell_type": "code",
   "execution_count": null,
   "id": "2e5e126e-e275-46a2-be5c-d31de6dd2691",
   "metadata": {},
   "outputs": [],
   "source": []
  },
  {
   "cell_type": "code",
   "execution_count": null,
   "id": "b0d873f7-56ea-4bca-8ff3-be801a41c886",
   "metadata": {},
   "outputs": [],
   "source": []
  },
  {
   "cell_type": "code",
   "execution_count": null,
   "id": "50f137af-cdca-4b9d-9766-55eb6c5f63f3",
   "metadata": {},
   "outputs": [],
   "source": []
  },
  {
   "cell_type": "code",
   "execution_count": null,
   "id": "39b51da3-b0c9-4a6f-b797-fb675bb18d13",
   "metadata": {},
   "outputs": [],
   "source": []
  },
  {
   "cell_type": "code",
   "execution_count": null,
   "id": "629f5b03-f6a1-4bbf-b818-d080d776349f",
   "metadata": {},
   "outputs": [],
   "source": []
  },
  {
   "cell_type": "code",
   "execution_count": null,
   "id": "1a3b2f1d-227c-4fa4-b4b3-da8240331f76",
   "metadata": {},
   "outputs": [],
   "source": []
  },
  {
   "cell_type": "code",
   "execution_count": null,
   "id": "30a10c98-cfba-4dc7-95c0-d86294a00a5a",
   "metadata": {},
   "outputs": [],
   "source": []
  },
  {
   "cell_type": "code",
   "execution_count": null,
   "id": "bbfc6bc3-5a0b-4ab0-b7d9-4a66e4fe3297",
   "metadata": {},
   "outputs": [],
   "source": []
  },
  {
   "cell_type": "code",
   "execution_count": null,
   "id": "de5711c6-694e-4a33-b944-6fc9fd8a245d",
   "metadata": {},
   "outputs": [],
   "source": []
  },
  {
   "cell_type": "code",
   "execution_count": null,
   "id": "ec283aa1-bc6b-4523-a825-bd20c0376d55",
   "metadata": {},
   "outputs": [],
   "source": []
  },
  {
   "cell_type": "code",
   "execution_count": null,
   "id": "89411440-4d65-4fb1-a2e7-9abba8744d6c",
   "metadata": {},
   "outputs": [],
   "source": []
  },
  {
   "cell_type": "code",
   "execution_count": null,
   "id": "a72e27c2-97bb-4132-a629-4aaf90983d98",
   "metadata": {},
   "outputs": [],
   "source": []
  },
  {
   "cell_type": "code",
   "execution_count": null,
   "id": "a5210459-914f-4457-be76-b117d51293e0",
   "metadata": {},
   "outputs": [],
   "source": []
  },
  {
   "cell_type": "code",
   "execution_count": null,
   "id": "7942492a-b75e-45c5-b7e3-8ba0bcc391b1",
   "metadata": {},
   "outputs": [],
   "source": []
  },
  {
   "cell_type": "code",
   "execution_count": null,
   "id": "cbe6b169-0ac0-4ded-a450-6ed2b2a5cb1f",
   "metadata": {},
   "outputs": [],
   "source": []
  },
  {
   "cell_type": "code",
   "execution_count": null,
   "id": "eeb8d58d-373c-4e4c-9933-c7dd2e2dd8f9",
   "metadata": {},
   "outputs": [],
   "source": []
  },
  {
   "cell_type": "code",
   "execution_count": null,
   "id": "3c70d611-8431-4a34-b380-c595671d8592",
   "metadata": {},
   "outputs": [],
   "source": []
  },
  {
   "cell_type": "code",
   "execution_count": null,
   "id": "d7a73c44-e516-4683-902d-33882df6910e",
   "metadata": {},
   "outputs": [],
   "source": []
  },
  {
   "cell_type": "code",
   "execution_count": null,
   "id": "b9ad739e-0552-4547-8127-0c90f9942846",
   "metadata": {},
   "outputs": [],
   "source": []
  },
  {
   "cell_type": "code",
   "execution_count": null,
   "id": "1b245e42-599b-440e-bcb0-7cfd14f720c2",
   "metadata": {},
   "outputs": [],
   "source": []
  },
  {
   "cell_type": "code",
   "execution_count": null,
   "id": "c7d12ffe-5bd2-4aa4-868c-e16811aaf134",
   "metadata": {},
   "outputs": [],
   "source": []
  },
  {
   "cell_type": "code",
   "execution_count": null,
   "id": "036fb77d-8b3e-4f04-a5cb-c798d533dfaa",
   "metadata": {},
   "outputs": [],
   "source": []
  },
  {
   "cell_type": "code",
   "execution_count": null,
   "id": "70e997f8-25a9-46e9-a4e7-0e6a7f1096d3",
   "metadata": {},
   "outputs": [],
   "source": []
  },
  {
   "cell_type": "code",
   "execution_count": null,
   "id": "2ce26828-22d5-48e8-9b5a-0e88925779bb",
   "metadata": {},
   "outputs": [],
   "source": []
  },
  {
   "cell_type": "code",
   "execution_count": null,
   "id": "6d907a1c-8841-4e76-a10a-acc439c16a56",
   "metadata": {},
   "outputs": [],
   "source": []
  },
  {
   "cell_type": "code",
   "execution_count": null,
   "id": "4f471883-8c54-4fe4-bec0-1e80a44b013b",
   "metadata": {},
   "outputs": [],
   "source": []
  },
  {
   "cell_type": "code",
   "execution_count": null,
   "id": "7dc799b4-f3dc-4e1d-807b-598efae39b2c",
   "metadata": {},
   "outputs": [],
   "source": []
  },
  {
   "cell_type": "code",
   "execution_count": null,
   "id": "0016e068-65e7-481f-af56-b6d32256be6e",
   "metadata": {},
   "outputs": [],
   "source": []
  },
  {
   "cell_type": "code",
   "execution_count": null,
   "id": "bbcb9924-2d2d-4255-b316-557993c82557",
   "metadata": {},
   "outputs": [],
   "source": []
  },
  {
   "cell_type": "code",
   "execution_count": null,
   "id": "6b9007fb-5234-422a-ab7d-41de13f855d6",
   "metadata": {},
   "outputs": [],
   "source": []
  },
  {
   "cell_type": "code",
   "execution_count": null,
   "id": "4942b7d3-907f-4de6-bc22-66a207d49e82",
   "metadata": {},
   "outputs": [],
   "source": []
  },
  {
   "cell_type": "code",
   "execution_count": null,
   "id": "1d3286f4-d046-4261-8f46-1c25d26eb54f",
   "metadata": {},
   "outputs": [],
   "source": []
  },
  {
   "cell_type": "code",
   "execution_count": null,
   "id": "0518a3e5-7abe-411c-a7fa-3747dc7edd94",
   "metadata": {},
   "outputs": [],
   "source": []
  },
  {
   "cell_type": "code",
   "execution_count": null,
   "id": "cf9e8d55-f433-410e-b31b-46d8768fb5b6",
   "metadata": {},
   "outputs": [],
   "source": []
  },
  {
   "cell_type": "code",
   "execution_count": null,
   "id": "69b00c9d-5e34-4691-a4ff-b7c6eec1690a",
   "metadata": {},
   "outputs": [],
   "source": []
  },
  {
   "cell_type": "code",
   "execution_count": null,
   "id": "1d11b4cd-54cf-45b4-8cff-3e2a9fd29db8",
   "metadata": {},
   "outputs": [],
   "source": []
  },
  {
   "cell_type": "code",
   "execution_count": null,
   "id": "8023cf9e-8244-4cef-a1bb-e537dae30584",
   "metadata": {},
   "outputs": [],
   "source": []
  },
  {
   "cell_type": "code",
   "execution_count": null,
   "id": "ebd57346-a42d-4904-a472-93c0754e86ac",
   "metadata": {},
   "outputs": [],
   "source": []
  },
  {
   "cell_type": "code",
   "execution_count": null,
   "id": "22375eec-ca94-4dc6-87f1-dbdbeb3d0be5",
   "metadata": {},
   "outputs": [],
   "source": []
  },
  {
   "cell_type": "code",
   "execution_count": null,
   "id": "6409c18e-3d6b-46cb-a54b-e79f5c6bf503",
   "metadata": {},
   "outputs": [],
   "source": []
  },
  {
   "cell_type": "code",
   "execution_count": null,
   "id": "b6d518d6-a5ec-4fbc-82bc-a02155d1fc61",
   "metadata": {},
   "outputs": [],
   "source": []
  },
  {
   "cell_type": "code",
   "execution_count": null,
   "id": "44935349-c392-4a92-a44b-dcffa70de667",
   "metadata": {},
   "outputs": [],
   "source": []
  },
  {
   "cell_type": "code",
   "execution_count": null,
   "id": "cb528263-115e-4bd0-9d75-c05832d0c2b0",
   "metadata": {},
   "outputs": [],
   "source": []
  },
  {
   "cell_type": "code",
   "execution_count": null,
   "id": "d3b05f52-84bd-46ca-a547-1c7ecc7a0d6b",
   "metadata": {},
   "outputs": [],
   "source": []
  },
  {
   "cell_type": "code",
   "execution_count": null,
   "id": "cea451e9-2368-4b3d-93fd-7302bd859051",
   "metadata": {},
   "outputs": [],
   "source": []
  },
  {
   "cell_type": "code",
   "execution_count": null,
   "id": "6897658a-e4aa-45ab-ae0c-c3e0366c4a0c",
   "metadata": {},
   "outputs": [],
   "source": []
  },
  {
   "cell_type": "code",
   "execution_count": null,
   "id": "717bea8c-1c01-4048-b591-ba2900e246a0",
   "metadata": {},
   "outputs": [],
   "source": []
  },
  {
   "cell_type": "code",
   "execution_count": null,
   "id": "b64f348d-2bf9-4dfa-9fa4-087cd909a3be",
   "metadata": {},
   "outputs": [],
   "source": []
  },
  {
   "cell_type": "code",
   "execution_count": null,
   "id": "71f72d0e-c3eb-4501-be42-681a69a92957",
   "metadata": {},
   "outputs": [],
   "source": []
  },
  {
   "cell_type": "code",
   "execution_count": null,
   "id": "e153aed7-6bce-4701-9510-f6eddce03e04",
   "metadata": {},
   "outputs": [],
   "source": []
  },
  {
   "cell_type": "code",
   "execution_count": null,
   "id": "ee544dd6-384c-4878-bcfe-290518789d39",
   "metadata": {},
   "outputs": [],
   "source": []
  },
  {
   "cell_type": "code",
   "execution_count": null,
   "id": "7ca02a6f-de05-4a42-9582-e0ea796f9c39",
   "metadata": {},
   "outputs": [],
   "source": []
  }
 ],
 "metadata": {
  "kernelspec": {
   "display_name": "Python 3 (ipykernel)",
   "language": "python",
   "name": "python3"
  },
  "language_info": {
   "codemirror_mode": {
    "name": "ipython",
    "version": 3
   },
   "file_extension": ".py",
   "mimetype": "text/x-python",
   "name": "python",
   "nbconvert_exporter": "python",
   "pygments_lexer": "ipython3",
   "version": "3.12.2"
  }
 },
 "nbformat": 4,
 "nbformat_minor": 5
}
